{
 "cells": [
  {
   "cell_type": "code",
   "execution_count": 1,
   "id": "4fd72071",
   "metadata": {},
   "outputs": [],
   "source": [
    "import rospy\n",
    "import actionlib\n",
    "import ipywidgets as widgets\n",
    "from IPython.display import display, clear_output\n",
    "import math\n",
    "import threading\n",
    "import time "
   ]
  },
  {
   "cell_type": "code",
   "execution_count": 2,
   "id": "554ef49a",
   "metadata": {},
   "outputs": [],
   "source": [
    "# ROS messages\n",
    "from geometry_msgs.msg import Point, Pose, Twist\n",
    "from nav_msgs.msg import Odometry\n",
    "from sensor_msgs.msg import LaserScan\n",
    "from assignment_2_2024.msg import RobotPosition, PlanningAction, PlanningGoal\n",
    "from actionlib_msgs.msg import GoalStatus"
   ]
  },
  {
   "cell_type": "code",
   "execution_count": null,
   "id": "5478e405-c477-4155-b1e3-5d2c9210b661",
   "metadata": {},
   "outputs": [],
   "source": [
    "import rospy\n",
    "import os\n",
    "\n",
    "# Check if ROS master is available\n",
    "def check_ros_master():\n",
    "    try:\n",
    "        rospy.get_master().getPid()\n",
    "        return True\n",
    "    except:\n",
    "        return False\n",
    "\n",
    "# Initialize node only if ROS master is available\n",
    "if check_ros_master():\n",
    "    try:\n",
    "        rospy.init_node('jupyter_interface', anonymous=True)\n",
    "        print(\"✅ Successfully initialized ROS node\")\n",
    "    except rospy.ROSException as e:\n",
    "        print(f\"❌ ROS initialization failed: {e}\")\n",
    "else:\n",
    "    print(\"❌ Could not connect to ROS master! Please make sure:\")\n",
    "    print(\"1. roscore is running\")\n",
    "    print(\"2. Your environment is properly sourced\")\n",
    "    print(\"3. You're running the notebook from the same terminal where you sourced ROS\")"
   ]
  },
  {
   "cell_type": "code",
   "execution_count": null,
   "id": "ea7b5b23",
   "metadata": {},
   "outputs": [],
   "source": [
    "# Initialize ROS node\n",
    "try:\n",
    "    rospy.init_node('jupyter_interface')\n",
    "except:\n",
    "    pass"
   ]
  },
  {
   "cell_type": "code",
   "execution_count": null,
   "id": "86decd22-fb10-46e7-baa0-ca8119cc83ee",
   "metadata": {},
   "outputs": [],
   "source": [
    "# Global variables\n",
    "current_position = Point()\n",
    "current_velocity = Twist()\n",
    "closest_obstacle = float('inf')\n",
    "goal_active = False\n",
    "action_client = None"
   ]
  },
  {
   "cell_type": "code",
   "execution_count": null,
   "id": "93a791c5-f5a5-420f-97aa-e4ca97729eb0",
   "metadata": {},
   "outputs": [],
   "source": []
  }
 ],
 "metadata": {
  "kernelspec": {
   "display_name": "Python (rt2-env)",
   "language": "python",
   "name": "rt2-env"
  },
  "language_info": {
   "codemirror_mode": {
    "name": "ipython",
    "version": 3
   },
   "file_extension": ".py",
   "mimetype": "text/x-python",
   "name": "python",
   "nbconvert_exporter": "python",
   "pygments_lexer": "ipython3",
   "version": "3.11.11"
  }
 },
 "nbformat": 4,
 "nbformat_minor": 5
}
