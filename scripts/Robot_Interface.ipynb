{
 "cells": [
  {
   "cell_type": "code",
   "execution_count": 3,
   "id": "4fd72071",
   "metadata": {},
   "outputs": [],
   "source": [
    "import rospy\n",
    "import actionlib\n",
    "import ipywidgets as widgets\n",
    "from IPython.display import display, clear_output\n",
    "import math\n",
    "import threading\n",
    "import time "
   ]
  },
  {
   "cell_type": "code",
   "execution_count": 4,
   "id": "554ef49a",
   "metadata": {},
   "outputs": [],
   "source": [
    "# ROS messages\n",
    "from geometry_msgs.msg import Point, Pose, Twist\n",
    "from nav_msgs.msg import Odometry\n",
    "from sensor_msgs.msg import LaserScan\n",
    "from assignment_2_2024.msg import RobotPosition, PlanningAction, PlanningGoal\n",
    "from actionlib_msgs.msg import GoalStatus"
   ]
  },
  {
   "cell_type": "code",
   "execution_count": null,
   "id": "ea7b5b23",
   "metadata": {},
   "outputs": [],
   "source": [
    "# Initialize ROS node\n",
    "try:\n",
    "    rospy.init_node('jupyter_interface')\n",
    "except:\n",
    "    pass"
   ]
  },
  {
   "cell_type": "code",
   "execution_count": 2,
   "id": "a3f709a0",
   "metadata": {},
   "outputs": [
    {
     "ename": "NameError",
     "evalue": "name 'Point' is not defined",
     "output_type": "error",
     "traceback": [
      "\u001b[31m---------------------------------------------------------------------------\u001b[39m",
      "\u001b[31mNameError\u001b[39m                                 Traceback (most recent call last)",
      "\u001b[36mCell\u001b[39m\u001b[36m \u001b[39m\u001b[32mIn[2]\u001b[39m\u001b[32m, line 2\u001b[39m\n\u001b[32m      1\u001b[39m \u001b[38;5;66;03m# Global variables\u001b[39;00m\n\u001b[32m----> \u001b[39m\u001b[32m2\u001b[39m current_position = \u001b[43mPoint\u001b[49m()\n\u001b[32m      3\u001b[39m current_velocity = Twist()\n\u001b[32m      4\u001b[39m closest_obstacle = \u001b[38;5;28mfloat\u001b[39m(\u001b[33m'\u001b[39m\u001b[33minf\u001b[39m\u001b[33m'\u001b[39m)\n",
      "\u001b[31mNameError\u001b[39m: name 'Point' is not defined"
     ]
    }
   ],
   "source": [
    "# Global variables\n",
    "current_position = Point()\n",
    "current_velocity = Twist()\n",
    "closest_obstacle = float('inf')\n",
    "goal_active = False\n",
    "action_client = None\n",
    "\n",
    "# Initialize publisher for robot info (like original Node_A)\n",
    "robot_info_pub = rospy.Publisher(\"/robot_info\", RobotPosition, queue_size=1)"
   ]
  },
  {
   "cell_type": "code",
   "execution_count": null,
   "id": "1f7434c1",
   "metadata": {},
   "outputs": [],
   "source": []
  }
 ],
 "metadata": {
  "kernelspec": {
   "display_name": "Python (rt2_env)",
   "language": "python",
   "name": "rt2_env"
  },
  "language_info": {
   "codemirror_mode": {
    "name": "ipython",
    "version": 3
   },
   "file_extension": ".py",
   "mimetype": "text/x-python",
   "name": "python",
   "nbconvert_exporter": "python",
   "pygments_lexer": "ipython3",
   "version": "3.11.11"
  }
 },
 "nbformat": 4,
 "nbformat_minor": 5
}
