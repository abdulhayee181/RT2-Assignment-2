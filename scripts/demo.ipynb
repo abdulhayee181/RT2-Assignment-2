{
 "cells": [
  {
   "cell_type": "code",
   "execution_count": 1,
   "id": "c4560614-51e7-46ad-ac3b-76bb23ed4a2d",
   "metadata": {
    "tags": []
   },
   "outputs": [],
   "source": [
    "import rospy\n",
    "from std_msgs.msg import String"
   ]
  },
  {
   "cell_type": "code",
   "execution_count": null,
   "id": "289ebb03-60ed-477e-b17c-dd6d48ca20b4",
   "metadata": {
    "tags": []
   },
   "outputs": [],
   "source": [
    "def callback(msg):\n",
    "    print(\"✅ Received:\", msg.data)\n",
    "\n",
    "# Make sure node is only initialized once\n",
    "if not rospy.core.is_initialized():\n",
    "    rospy.init_node('jupyter_node', anonymous=True)\n",
    "\n",
    "rospy.Subscriber('/chatter', String, callback)\n",
    "\n",
    "# Keep the cell alive to receive messages\n",
    "import time\n",
    "print(\"📡 Listening on /chatter...\")\n",
    "for _ in range(10):\n",
    "    time.sleep(1)\n",
    "    print(\".\", end='', flush=True)\n"
   ]
  },
  {
   "cell_type": "code",
   "execution_count": null,
   "id": "b66d862b-1372-4a28-a298-11ebf90ae315",
   "metadata": {
    "tags": []
   },
   "outputs": [],
   "source": []
  },
  {
   "cell_type": "code",
   "execution_count": null,
   "id": "37945cc4-a2a3-4057-941e-0d9647752eb4",
   "metadata": {},
   "outputs": [],
   "source": []
  }
 ],
 "metadata": {
  "kernelspec": {
   "display_name": "Python (rt2_env)",
   "language": "python",
   "name": "rt2_env"
  },
  "language_info": {
   "codemirror_mode": {
    "name": "ipython",
    "version": 3
   },
   "file_extension": ".py",
   "mimetype": "text/x-python",
   "name": "python",
   "nbconvert_exporter": "python",
   "pygments_lexer": "ipython3",
   "version": "3.11.11"
  }
 },
 "nbformat": 4,
 "nbformat_minor": 5
}
